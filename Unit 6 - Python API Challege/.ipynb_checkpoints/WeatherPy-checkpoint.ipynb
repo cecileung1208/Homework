{
 "cells": [
  {
   "cell_type": "markdown",
   "metadata": {},
   "source": [
    "# WeatherPy\n",
    "----\n",
    "**Latitude Information**\n",
    "1. Negative Values: Southern Hemisphere\n",
    "2. 0 Value: Equator\n",
    "3. Positive Values: Northern Hemisphere\n",
    "\n",
    "### Analysis\n",
    "**Latitude vs Maximum Temperature**\n",
    "* Cities near the equator experience the highest maximum temperature.  As the latitude increases , the temperature drops significantly.  In general, the Southern Hemisphere have higher temperature than the Northern Hemisphere.\n",
    "\n",
    "**Latitude vs Humidity and Latitude vs Cloudiness**\n",
    "* The correlation between these 2 analysis have close to a zero correlation but the following trends are found:  \n",
    "    * Almost 80% of the cities have humidity of 60% or more.\n",
    "    * Majority of the cities have 0% or 80-100% clouiness.\n",
    "\n",
    "**Latitude vs Wind Speed**\n",
    "* There is no strong relationship between latitude and wind speed as the correlation is only 0.15. However, as the latitude around 60-90 degress, there are numerous cities with wind speed of more than 20 mph.\n",
    "\n",
    "---\n",
    "\n",
    "#### Note\n",
    "* Instructions have been included for each segment. You do not have to follow them exactly, but they are included to help you think through the steps."
   ]
  },
  {
   "cell_type": "code",
   "execution_count": 4,
   "metadata": {},
   "outputs": [
    {
     "name": "stdout",
     "output_type": "stream",
     "text": [
      "Requirement already satisfied: citipy in c:\\users\\cecilia\\anaconda3\\lib\\site-packages (0.0.5)\n",
      "Requirement already satisfied: kdtree>=0.12 in c:\\users\\cecilia\\anaconda3\\lib\\site-packages (from citipy) (0.16)\n"
     ]
    }
   ],
   "source": [
    "! pip install citipy"
   ]
  },
  {
   "cell_type": "code",
   "execution_count": 4,
   "metadata": {
    "scrolled": true
   },
   "outputs": [],
   "source": [
    "# Dependencies and Setup\n",
    "import matplotlib.pyplot as plt\n",
    "import pandas as pd\n",
    "import numpy as np\n",
    "import requests\n",
    "import time\n",
    "from scipy.stats import linregress\n",
    "from pprint import pprint\n",
    "\n",
    "# Import API key\n",
    "from api_key import api_key\n",
    "\n",
    "# Incorporated citipy to determine city based on latitude and longitude\n",
    "from citipy import citipy\n",
    "\n",
    "# Output File (CSV)\n",
    "output_data_file = \"output_data/cities.csv\"\n",
    "\n",
    "# Range of latitudes and longitudes\n",
    "lat_range = (-90, 90)\n",
    "lng_range = (-180, 180)"
   ]
  },
  {
   "cell_type": "markdown",
   "metadata": {},
   "source": [
    "## Generate Cities List"
   ]
  },
  {
   "cell_type": "code",
   "execution_count": 5,
   "metadata": {},
   "outputs": [
    {
     "name": "stdout",
     "output_type": "stream",
     "text": [
      "612\n"
     ]
    }
   ],
   "source": [
    "# List for holding lat_lngs and cities\n",
    "lat_lngs = []\n",
    "cities = []\n",
    "\n",
    "# Create a set of random lat and lng combinations\n",
    "lats = np.random.uniform(low=-90.000, high=90.000, size=1500)\n",
    "lngs = np.random.uniform(low=-180.000, high=180.000, size=1500)\n",
    "lat_lngs = zip(lats, lngs)\n",
    "\n",
    "# Identify nearest city for each lat, lng combination\n",
    "for lat_lng in lat_lngs:\n",
    "    city = citipy.nearest_city(lat_lng[0], lat_lng[1]).city_name\n",
    "    \n",
    "    # If the city is unique, then add it to a our cities list\n",
    "    if city not in cities:\n",
    "        cities.append(city)\n",
    "\n",
    "# Print the city count to confirm sufficient count\n",
    "print(len(cities))"
   ]
  },
  {
   "cell_type": "code",
   "execution_count": 6,
   "metadata": {
    "scrolled": true
   },
   "outputs": [
    {
     "name": "stdout",
     "output_type": "stream",
     "text": [
      "Processing record 1 of|Toronto\n",
      "Processing record 2 of|Paris\n",
      "Processing record 3 of|Zagreb\n",
      "City not found.  Skipping..\n",
      "Processing record 4 of|Windsor\n",
      "Processing record 5 of|Unionville\n",
      "Processing record 6 of|Mississauga\n",
      "Processing record 7 of|Hanoi\n",
      "Processing record 8 of|San Francisco\n",
      "Processing record 9 of|Pickering\n",
      "City not found.  Skipping..\n",
      "Processing record 10 of|Mississauga\n",
      "City not found.  Skipping..\n",
      "City not found.  Skipping..\n"
     ]
    }
   ],
   "source": [
    "### Perform API Calls\n",
    "#Perform a weather check on each city using a series of successive API calls.\n",
    "\n",
    "#Perform a quick test by coming up with a list of cities with successive API calls.  \n",
    "#Also, I included a list of towns and random names to test if the try & except test works before running API calls of a  list of 500+ cites. \n",
    "city_test = ['Toronto', 'Paris', 'Zagreb', 'Hoian', 'Windsor', 'Unionville', 'Mississauga', 'Hanoi', 'San Francisco', \n",
    "             'Pickering','Raptors','Mississauga', 'Darth Vader', 'Chewy']\n",
    "\n",
    "#Find url to extract api from owm website\n",
    "base_url = f\"http://api.openweathermap.org/data/2.5/weather?&appid={api_key}&q=\"\n",
    "\n",
    "#Create Empty List and set value at city count\n",
    "city_test_list = []\n",
    "city_number=1\n",
    "\n",
    "#Include a print log of each city as it'sbeing processed (with the city number and city name).\n",
    "for i in city_test:\n",
    "    city_url = base_url + i\n",
    "    response_test= requests.get(city_url).json()\n",
    "\n",
    "    try:\n",
    "        city_test_list.append(response_test['name'])\n",
    "        print(f\"Processing record {city_number} of|{i}\")\n",
    "        city_number +=1\n",
    "        \n",
    "    except:\n",
    "        # Append null values\n",
    "        print(f\"City not found.  Skipping..\")\n",
    "        pass\n",
    "\n",
    "    "
   ]
  },
  {
   "cell_type": "code",
   "execution_count": 7,
   "metadata": {},
   "outputs": [
    {
     "name": "stdout",
     "output_type": "stream",
     "text": [
      "Beginning Data Retrieval\n",
      "-----------------------------\n",
      "Processing record 1 of set 1|dombarovskiy\n",
      "Processing record 2 of set 1|saint-augustin\n",
      "Processing record 3 of set 1|port alfred\n",
      "Processing record 4 of set 1|ushuaia\n",
      "Processing record 5 of set 1|vardo\n",
      "Processing record 6 of set 1|tasiilaq\n",
      "Processing record 7 of set 1|punta arenas\n",
      "Processing record 8 of set 1|dukat\n",
      "Processing record 9 of set 1|aklavik\n",
      "Processing record 10 of set 1|bluff\n",
      "Processing record 11 of set 1|iskateley\n",
      "Processing record 12 of set 1|alofi\n",
      "Processing record 13 of set 1|shimoda\n",
      "Processing record 14 of set 1|yellowknife\n",
      "Processing record 15 of set 1|busselton\n",
      "Processing record 16 of set 1|carutapera\n",
      "Processing record 17 of set 1|leningradskiy\n",
      "Processing record 18 of set 1|piacabucu\n",
      "Processing record 19 of set 1|altay\n",
      "Processing record 20 of set 1|mataura\n",
      "Processing record 21 of set 1|najran\n",
      "Processing record 22 of set 1|lavrentiya\n",
      "Processing record 23 of set 1|mandalgovi\n",
      "Processing record 24 of set 1|new norfolk\n",
      "Processing record 25 of set 1|nabire\n",
      "Processing record 26 of set 1|cape town\n",
      "Processing record 27 of set 1|chuy\n",
      "Processing record 28 of set 1|pekan\n",
      "Processing record 29 of set 1|butaritari\n",
      "Processing record 30 of set 1|husavik\n",
      "City not found.  Skipping..\n",
      "Processing record 31 of set 1|siniscola\n",
      "Processing record 32 of set 1|kodiak\n",
      "Processing record 33 of set 1|san fernando\n",
      "Processing record 34 of set 1|zhicheng\n",
      "Processing record 35 of set 1|candido mendes\n",
      "Processing record 36 of set 1|khatanga\n",
      "Processing record 37 of set 1|golyshmanovo\n",
      "City not found.  Skipping..\n",
      "Processing record 38 of set 1|rikitea\n",
      "Processing record 39 of set 1|albany\n",
      "Processing record 40 of set 1|tres passos\n",
      "Processing record 41 of set 1|mahebourg\n",
      "Processing record 42 of set 1|port elizabeth\n",
      "Processing record 43 of set 1|hilo\n",
      "Processing record 44 of set 1|mirnyy\n",
      "Processing record 45 of set 1|dharmanagar\n",
      "Processing record 46 of set 1|kapaa\n",
      "Processing record 47 of set 1|bathsheba\n",
      "Processing record 48 of set 1|georgetown\n",
      "Processing record 49 of set 1|broome\n",
      "Processing record 50 of set 1|ketchikan\n",
      "Processing record 1 of set 2|souillac\n",
      "Processing record 2 of set 2|saskylakh\n",
      "Processing record 3 of set 2|manaus\n",
      "Processing record 4 of set 2|qaanaaq\n",
      "Processing record 5 of set 2|tres lagoas\n",
      "Processing record 6 of set 2|tomohon\n",
      "City not found.  Skipping..\n",
      "Processing record 7 of set 2|kloulklubed\n",
      "Processing record 8 of set 2|jieshi\n",
      "Processing record 9 of set 2|madera\n",
      "Processing record 10 of set 2|carnarvon\n",
      "Processing record 11 of set 2|hermanus\n",
      "Processing record 12 of set 2|buala\n",
      "Processing record 13 of set 2|cockburn town\n",
      "Processing record 14 of set 2|hendersonville\n",
      "Processing record 15 of set 2|vaini\n",
      "Processing record 16 of set 2|doha\n",
      "Processing record 17 of set 2|bundaberg\n",
      "Processing record 18 of set 2|victoria\n",
      "Processing record 19 of set 2|tiksi\n",
      "Processing record 20 of set 2|itanhaem\n",
      "Processing record 21 of set 2|hobart\n",
      "Processing record 22 of set 2|villa de san francisco\n",
      "Processing record 23 of set 2|iranshahr\n",
      "Processing record 24 of set 2|atuona\n",
      "Processing record 25 of set 2|faanui\n",
      "Processing record 26 of set 2|luderitz\n",
      "Processing record 27 of set 2|kibondo\n",
      "Processing record 28 of set 2|vila velha\n",
      "City not found.  Skipping..\n",
      "Processing record 29 of set 2|tabou\n",
      "Processing record 30 of set 2|kununurra\n",
      "Processing record 31 of set 2|kaitangata\n",
      "Processing record 32 of set 2|skibbereen\n",
      "Processing record 33 of set 2|paka\n",
      "City not found.  Skipping..\n",
      "Processing record 34 of set 2|kavaratti\n",
      "Processing record 35 of set 2|hithadhoo\n",
      "Processing record 36 of set 2|saint-pierre\n",
      "Processing record 37 of set 2|lompoc\n",
      "Processing record 38 of set 2|khasan\n",
      "Processing record 39 of set 2|baiyin\n",
      "Processing record 40 of set 2|waw\n",
      "Processing record 41 of set 2|jamestown\n",
      "Processing record 42 of set 2|upernavik\n",
      "Processing record 43 of set 2|angoche\n",
      "Processing record 44 of set 2|ngunguru\n",
      "Processing record 45 of set 2|mar del plata\n",
      "Processing record 46 of set 2|cherskiy\n",
      "Processing record 47 of set 2|keti bandar\n",
      "Processing record 48 of set 2|harwich\n",
      "Processing record 49 of set 2|awbari\n",
      "Processing record 50 of set 2|jalu\n",
      "Processing record 1 of set 3|bambous virieux\n",
      "Processing record 2 of set 3|puerto ayora\n",
      "Processing record 3 of set 3|bethel\n",
      "Processing record 4 of set 3|bousse\n",
      "Processing record 5 of set 3|saint-philippe\n",
      "Processing record 6 of set 3|fare\n",
      "Processing record 7 of set 3|pevek\n",
      "Processing record 8 of set 3|sawakin\n",
      "City not found.  Skipping..\n",
      "Processing record 9 of set 3|barrow\n",
      "Processing record 10 of set 3|boditi\n",
      "Processing record 11 of set 3|sabang\n",
      "Processing record 12 of set 3|bengkulu\n",
      "City not found.  Skipping..\n",
      "Processing record 13 of set 3|jumla\n",
      "Processing record 14 of set 3|kuytun\n",
      "Processing record 15 of set 3|teknaf\n",
      "Processing record 16 of set 3|kapit\n",
      "Processing record 17 of set 3|tessalit\n",
      "Processing record 18 of set 3|abaza\n",
      "Processing record 19 of set 3|zile\n",
      "Processing record 20 of set 3|hokitika\n",
      "Processing record 21 of set 3|karasjok\n",
      "City not found.  Skipping..\n",
      "Processing record 22 of set 3|zhezkazgan\n",
      "Processing record 23 of set 3|ponta do sol\n",
      "Processing record 24 of set 3|lebu\n",
      "Processing record 25 of set 3|klaksvik\n",
      "Processing record 26 of set 3|ostrovnoy\n",
      "City not found.  Skipping..\n",
      "Processing record 27 of set 3|nome\n",
      "Processing record 28 of set 3|allen\n",
      "Processing record 29 of set 3|vila\n",
      "Processing record 30 of set 3|nokaneng\n",
      "Processing record 31 of set 3|rabo de peixe\n",
      "Processing record 32 of set 3|chokurdakh\n",
      "Processing record 33 of set 3|bredasdorp\n",
      "Processing record 34 of set 3|priyutnoye\n",
      "Processing record 35 of set 3|hermosillo\n",
      "Processing record 36 of set 3|tehachapi\n",
      "Processing record 37 of set 3|ulladulla\n",
      "Processing record 38 of set 3|muroto\n",
      "Processing record 39 of set 3|namibe\n",
      "Processing record 40 of set 3|east london\n",
      "Processing record 41 of set 3|ribeira grande\n",
      "Processing record 42 of set 3|caldwell\n",
      "Processing record 43 of set 3|lardos\n",
      "City not found.  Skipping..\n",
      "Processing record 44 of set 3|le port\n",
      "Processing record 45 of set 3|zhigansk\n",
      "Processing record 46 of set 3|chapais\n",
      "Processing record 47 of set 3|tuktoyaktuk\n",
      "Processing record 48 of set 3|portland\n",
      "Processing record 49 of set 3|moree\n",
      "Processing record 50 of set 3|wick\n",
      "Processing record 1 of set 4|lagunas\n",
      "City not found.  Skipping..\n",
      "Processing record 2 of set 4|kahului\n",
      "Processing record 3 of set 4|oakdale\n",
      "Processing record 4 of set 4|viedma\n",
      "Processing record 5 of set 4|narsaq\n",
      "Processing record 6 of set 4|castro\n",
      "Processing record 7 of set 4|avarua\n",
      "Processing record 8 of set 4|wasilla\n",
      "Processing record 9 of set 4|norman wells\n",
      "Processing record 10 of set 4|dikson\n",
      "Processing record 11 of set 4|avera\n",
      "Processing record 12 of set 4|waipawa\n",
      "Processing record 13 of set 4|morgan city\n",
      "Processing record 14 of set 4|ancud\n",
      "Processing record 15 of set 4|nantucket\n",
      "Processing record 16 of set 4|poltava\n",
      "Processing record 17 of set 4|americus\n",
      "Processing record 18 of set 4|hambantota\n",
      "Processing record 19 of set 4|egvekinot\n",
      "City not found.  Skipping..\n",
      "Processing record 20 of set 4|genhe\n",
      "Processing record 21 of set 4|sokolo\n",
      "Processing record 22 of set 4|southbridge\n",
      "Processing record 23 of set 4|blairmore\n",
      "City not found.  Skipping..\n",
      "Processing record 24 of set 4|arraial do cabo\n",
      "Processing record 25 of set 4|akyab\n",
      "Processing record 26 of set 4|naze\n",
      "Processing record 27 of set 4|senftenberg\n",
      "Processing record 28 of set 4|balkanabat\n",
      "Processing record 29 of set 4|truth or consequences\n",
      "Processing record 30 of set 4|pastos bons\n",
      "Processing record 31 of set 4|copiapo\n",
      "City not found.  Skipping..\n",
      "Processing record 32 of set 4|soe\n",
      "Processing record 33 of set 4|kungurtug\n",
      "Processing record 34 of set 4|sao miguel do araguaia\n",
      "Processing record 35 of set 4|grand-santi\n",
      "Processing record 36 of set 4|antalaha\n",
      "Processing record 37 of set 4|tarare\n",
      "Processing record 38 of set 4|phek\n",
      "Processing record 39 of set 4|key west\n",
      "Processing record 40 of set 4|vanimo\n",
      "Processing record 41 of set 4|santa maria\n",
      "Processing record 42 of set 4|ahuimanu\n",
      "Processing record 43 of set 4|karratha\n",
      "Processing record 44 of set 4|olafsvik\n",
      "Processing record 45 of set 4|kristiinankaupunki\n",
      "Processing record 46 of set 4|kiama\n",
      "Processing record 47 of set 4|melipilla\n",
      "Processing record 48 of set 4|syracuse\n",
      "Processing record 49 of set 4|te anau\n",
      "Processing record 50 of set 4|bambanglipuro\n"
     ]
    },
    {
     "name": "stdout",
     "output_type": "stream",
     "text": [
      "Processing record 1 of set 5|inirida\n",
      "Processing record 2 of set 5|sarangani\n",
      "Processing record 3 of set 5|okolona\n",
      "Processing record 4 of set 5|beringovskiy\n",
      "Processing record 5 of set 5|paamiut\n",
      "Processing record 6 of set 5|taltal\n",
      "Processing record 7 of set 5|barra do garcas\n",
      "Processing record 8 of set 5|iisalmi\n",
      "Processing record 9 of set 5|dale\n",
      "Processing record 10 of set 5|port lincoln\n",
      "Processing record 11 of set 5|sao filipe\n",
      "Processing record 12 of set 5|molteno\n",
      "Processing record 13 of set 5|espinosa\n",
      "Processing record 14 of set 5|muli\n",
      "Processing record 15 of set 5|rio grande\n",
      "Processing record 16 of set 5|rocha\n",
      "Processing record 17 of set 5|morondava\n",
      "Processing record 18 of set 5|quatre cocos\n",
      "Processing record 19 of set 5|sao joao da barra\n",
      "Processing record 20 of set 5|boone\n",
      "City not found.  Skipping..\n",
      "Processing record 21 of set 5|pangnirtung\n",
      "Processing record 22 of set 5|valdosta\n",
      "Processing record 23 of set 5|talnakh\n",
      "Processing record 24 of set 5|mitsamiouli\n",
      "Processing record 25 of set 5|kruisfontein\n",
      "Processing record 26 of set 5|san andres\n",
      "Processing record 27 of set 5|kavieng\n",
      "Processing record 28 of set 5|baghdad\n",
      "Processing record 29 of set 5|maputo\n",
      "Processing record 30 of set 5|thompson\n",
      "Processing record 31 of set 5|taebla\n",
      "Processing record 32 of set 5|vao\n",
      "Processing record 33 of set 5|waddan\n",
      "Processing record 34 of set 5|bilma\n",
      "Processing record 35 of set 5|broken hill\n",
      "Processing record 36 of set 5|sola\n",
      "Processing record 37 of set 5|khalkhal\n",
      "Processing record 38 of set 5|tucumcari\n",
      "Processing record 39 of set 5|zhuhai\n",
      "Processing record 40 of set 5|provideniya\n",
      "Processing record 41 of set 5|saldanha\n",
      "Processing record 42 of set 5|nizhniy kuranakh\n",
      "Processing record 43 of set 5|guerrero negro\n",
      "Processing record 44 of set 5|stornoway\n",
      "Processing record 45 of set 5|mezen\n",
      "Processing record 46 of set 5|garmsar\n",
      "Processing record 47 of set 5|nanortalik\n",
      "Processing record 48 of set 5|mpulungu\n",
      "City not found.  Skipping..\n",
      "Processing record 49 of set 5|ahipara\n",
      "Processing record 50 of set 5|cisneros\n",
      "Processing record 1 of set 6|reporoa\n",
      "Processing record 2 of set 6|blagoyevo\n",
      "Processing record 3 of set 6|surman\n",
      "Processing record 4 of set 6|amapa\n",
      "Processing record 5 of set 6|krasnyy klyuch\n",
      "Processing record 6 of set 6|kidal\n",
      "Processing record 7 of set 6|mtambile\n",
      "Processing record 8 of set 6|saint andrews\n",
      "Processing record 9 of set 6|sioux lookout\n",
      "Processing record 10 of set 6|casselman\n",
      "Processing record 11 of set 6|bayir\n",
      "Processing record 12 of set 6|linda\n",
      "Processing record 13 of set 6|veraval\n",
      "Processing record 14 of set 6|tromso\n",
      "City not found.  Skipping..\n",
      "Processing record 15 of set 6|esperance\n",
      "Processing record 16 of set 6|nouadhibou\n",
      "City not found.  Skipping..\n",
      "Processing record 17 of set 6|lagoa\n",
      "City not found.  Skipping..\n",
      "Processing record 18 of set 6|airai\n",
      "Processing record 19 of set 6|lerwick\n",
      "Processing record 20 of set 6|dingle\n",
      "City not found.  Skipping..\n",
      "Processing record 21 of set 6|san patricio\n",
      "Processing record 22 of set 6|lorengau\n",
      "Processing record 23 of set 6|anadyr\n",
      "Processing record 24 of set 6|sitka\n",
      "Processing record 25 of set 6|harer\n",
      "Processing record 26 of set 6|herat\n",
      "Processing record 27 of set 6|westport\n",
      "Processing record 28 of set 6|hasaki\n",
      "Processing record 29 of set 6|ola\n",
      "Processing record 30 of set 6|nalut\n",
      "Processing record 31 of set 6|college\n",
      "Processing record 32 of set 6|longyearbyen\n",
      "City not found.  Skipping..\n",
      "City not found.  Skipping..\n",
      "Processing record 33 of set 6|geraldton\n",
      "Processing record 34 of set 6|beian\n",
      "Processing record 35 of set 6|eenhana\n",
      "Processing record 36 of set 6|remanso\n",
      "Processing record 37 of set 6|mayya\n",
      "Processing record 38 of set 6|kargasok\n",
      "Processing record 39 of set 6|almeirim\n",
      "Processing record 40 of set 6|lovozero\n",
      "Processing record 41 of set 6|caravelas\n",
      "Processing record 42 of set 6|dubbo\n",
      "Processing record 43 of set 6|nikolskoye\n",
      "City not found.  Skipping..\n",
      "Processing record 44 of set 6|creel\n",
      "Processing record 45 of set 6|rangapara\n",
      "Processing record 46 of set 6|putina\n",
      "Processing record 47 of set 6|richards bay\n",
      "Processing record 48 of set 6|la palma\n",
      "Processing record 49 of set 6|petropavlovsk-kamchatskiy\n",
      "Processing record 50 of set 6|pacifica\n",
      "Processing record 1 of set 7|port-gentil\n",
      "City not found.  Skipping..\n",
      "Processing record 2 of set 7|port hedland\n",
      "Processing record 3 of set 7|kamaishi\n",
      "Processing record 4 of set 7|greensburg\n",
      "Processing record 5 of set 7|petropavlovka\n",
      "Processing record 6 of set 7|bihoro\n",
      "Processing record 7 of set 7|kouango\n",
      "Processing record 8 of set 7|villa literno\n",
      "Processing record 9 of set 7|ayagoz\n",
      "Processing record 10 of set 7|mineiros\n",
      "Processing record 11 of set 7|wakkanai\n",
      "Processing record 12 of set 7|koslan\n",
      "Processing record 13 of set 7|bar harbor\n",
      "Processing record 14 of set 7|srednekolymsk\n",
      "Processing record 15 of set 7|coahuayana\n",
      "Processing record 16 of set 7|road town\n",
      "Processing record 17 of set 7|sao gabriel da cachoeira\n",
      "Processing record 18 of set 7|pak phanang\n",
      "Processing record 19 of set 7|clyde river\n",
      "Processing record 20 of set 7|liverpool\n",
      "Processing record 21 of set 7|vostok\n",
      "Processing record 22 of set 7|tonj\n",
      "City not found.  Skipping..\n",
      "Processing record 23 of set 7|tornio\n",
      "Processing record 24 of set 7|san cristobal\n",
      "Processing record 25 of set 7|cidreira\n",
      "Processing record 26 of set 7|milicz\n",
      "Processing record 27 of set 7|presidencia roque saenz pena\n",
      "Processing record 28 of set 7|kalmunai\n",
      "Processing record 29 of set 7|port macquarie\n",
      "Processing record 30 of set 7|lafiagi\n",
      "Processing record 31 of set 7|komsomolskiy\n",
      "Processing record 32 of set 7|aykhal\n",
      "Processing record 33 of set 7|huarmey\n",
      "Processing record 34 of set 7|fortuna\n",
      "Processing record 35 of set 7|salalah\n",
      "Processing record 36 of set 7|suhut\n",
      "City not found.  Skipping..\n",
      "City not found.  Skipping..\n",
      "City not found.  Skipping..\n",
      "Processing record 37 of set 7|antofagasta\n",
      "Processing record 38 of set 7|ixtapa\n",
      "Processing record 39 of set 7|nsanje\n",
      "Processing record 40 of set 7|ucluelet\n",
      "Processing record 41 of set 7|paraiso\n",
      "Processing record 42 of set 7|sundargarh\n",
      "City not found.  Skipping..\n",
      "Processing record 43 of set 7|hudson bay\n",
      "Processing record 44 of set 7|pong\n",
      "Processing record 45 of set 7|coromandel\n",
      "Processing record 46 of set 7|zambezi\n",
      "Processing record 47 of set 7|oromocto\n",
      "Processing record 48 of set 7|rawson\n",
      "Processing record 49 of set 7|torbay\n",
      "Processing record 50 of set 7|severo-kurilsk\n",
      "Processing record 1 of set 8|coquimbo\n",
      "Processing record 2 of set 8|bairiki\n",
      "Processing record 3 of set 8|banda aceh\n",
      "Processing record 4 of set 8|quelimane\n",
      "Processing record 5 of set 8|merauke\n",
      "Processing record 6 of set 8|ormara\n",
      "Processing record 7 of set 8|tsurib\n",
      "Processing record 8 of set 8|pokrovsk\n",
      "Processing record 9 of set 8|benemerito de las americas\n",
      "Processing record 10 of set 8|necochea\n",
      "Processing record 11 of set 8|soyo\n",
      "Processing record 12 of set 8|vredendal\n",
      "Processing record 13 of set 8|coronado\n",
      "Processing record 14 of set 8|hagonoy\n",
      "Processing record 15 of set 8|kamenka\n",
      "Processing record 16 of set 8|usinsk\n",
      "Processing record 17 of set 8|tuatapere\n",
      "Processing record 18 of set 8|saint george\n",
      "Processing record 19 of set 8|mindelo\n",
      "Processing record 20 of set 8|miraflores\n",
      "Processing record 21 of set 8|bronnoysund\n",
      "Processing record 22 of set 8|mecca\n",
      "Processing record 23 of set 8|tura\n",
      "Processing record 24 of set 8|baglung\n",
      "Processing record 25 of set 8|muros\n",
      "Processing record 26 of set 8|los llanos de aridane\n",
      "City not found.  Skipping..\n",
      "Processing record 27 of set 8|lata\n",
      "Processing record 28 of set 8|noumea\n",
      "Processing record 29 of set 8|kuzhorskaya\n",
      "City not found.  Skipping..\n",
      "Processing record 30 of set 8|tautira\n",
      "Processing record 31 of set 8|dalvik\n",
      "Processing record 32 of set 8|mount gambier\n",
      "Processing record 33 of set 8|palmer\n",
      "Processing record 34 of set 8|warmbad\n",
      "Processing record 35 of set 8|myitkyina\n",
      "Processing record 36 of set 8|sibolga\n",
      "Processing record 37 of set 8|cayenne\n",
      "Processing record 38 of set 8|hamilton\n",
      "Processing record 39 of set 8|dzerzhinskoye\n",
      "Processing record 40 of set 8|baker city\n",
      "City not found.  Skipping..\n",
      "Processing record 41 of set 8|ambilobe\n",
      "Processing record 42 of set 8|sibu\n",
      "Processing record 43 of set 8|hohhot\n",
      "Processing record 44 of set 8|saint-francois\n",
      "Processing record 45 of set 8|tommot\n",
      "Processing record 46 of set 8|khor\n",
      "Processing record 47 of set 8|inuvik\n"
     ]
    },
    {
     "name": "stdout",
     "output_type": "stream",
     "text": [
      "Processing record 48 of set 8|belmonte\n",
      "Processing record 49 of set 8|fort-shevchenko\n",
      "City not found.  Skipping..\n",
      "Processing record 50 of set 8|camacha\n",
      "Processing record 1 of set 9|hovd\n",
      "Processing record 2 of set 9|floro\n",
      "Processing record 3 of set 9|bileca\n",
      "Processing record 4 of set 9|mae hong son\n",
      "Processing record 5 of set 9|iznoski\n",
      "Processing record 6 of set 9|borogontsy\n",
      "Processing record 7 of set 9|lewistown\n",
      "Processing record 8 of set 9|roma\n",
      "Processing record 9 of set 9|ilulissat\n",
      "Processing record 10 of set 9|laguna\n",
      "Processing record 11 of set 9|natchez\n",
      "Processing record 12 of set 9|lixourion\n",
      "Processing record 13 of set 9|samarai\n",
      "Processing record 14 of set 9|sinegorye\n",
      "City not found.  Skipping..\n",
      "Processing record 15 of set 9|goderich\n",
      "Processing record 16 of set 9|polson\n",
      "Processing record 17 of set 9|lazaro cardenas\n",
      "Processing record 18 of set 9|sur\n",
      "Processing record 19 of set 9|buenos aires\n",
      "Processing record 20 of set 9|miandrivazo\n",
      "Processing record 21 of set 9|muzhi\n",
      "Processing record 22 of set 9|baykit\n",
      "Processing record 23 of set 9|gavrilov posad\n",
      "Processing record 24 of set 9|turinsk\n",
      "Processing record 25 of set 9|marsa matruh\n",
      "Processing record 26 of set 9|ankang\n",
      "Processing record 27 of set 9|mindyak\n",
      "Processing record 28 of set 9|tezu\n",
      "Processing record 29 of set 9|tahta\n",
      "Processing record 30 of set 9|bandarbeyla\n",
      "Processing record 31 of set 9|roald\n",
      "Processing record 32 of set 9|cedar city\n",
      "Processing record 33 of set 9|sevierville\n",
      "Processing record 34 of set 9|pedasi\n",
      "Processing record 35 of set 9|gazalkent\n",
      "Processing record 36 of set 9|mackay\n",
      "Processing record 37 of set 9|acapulco\n",
      "Processing record 38 of set 9|bonnyville\n",
      "Processing record 39 of set 9|quzhou\n",
      "Processing record 40 of set 9|cabedelo\n",
      "Processing record 41 of set 9|bubaque\n",
      "Processing record 42 of set 9|jardim\n",
      "Processing record 43 of set 9|amga\n",
      "Processing record 44 of set 9|mattru\n",
      "Processing record 45 of set 9|tvoroyri\n",
      "Processing record 46 of set 9|socorro\n",
      "Processing record 47 of set 9|sesheke\n",
      "Processing record 48 of set 9|faya\n",
      "Processing record 49 of set 9|tombouctou\n",
      "Processing record 50 of set 9|sattenapalle\n",
      "Processing record 1 of set 10|kenai\n",
      "Processing record 2 of set 10|puerto madero\n",
      "Processing record 3 of set 10|newnan\n",
      "Processing record 4 of set 10|jizan\n",
      "Processing record 5 of set 10|beisfjord\n",
      "Processing record 6 of set 10|celestun\n",
      "Processing record 7 of set 10|zalantun\n",
      "Processing record 8 of set 10|yangambi\n",
      "City not found.  Skipping..\n",
      "Processing record 9 of set 10|sabile\n",
      "City not found.  Skipping..\n",
      "City not found.  Skipping..\n",
      "Processing record 10 of set 10|vygonichi\n",
      "City not found.  Skipping..\n",
      "Processing record 11 of set 10|belaya gora\n",
      "Processing record 12 of set 10|parlakimidi\n",
      "Processing record 13 of set 10|kilindoni\n",
      "Processing record 14 of set 10|taoudenni\n",
      "Processing record 15 of set 10|osoyoos\n",
      "Processing record 16 of set 10|arlit\n",
      "Processing record 17 of set 10|berlevag\n",
      "Processing record 18 of set 10|la rioja\n",
      "Processing record 19 of set 10|nova olinda do norte\n",
      "Processing record 20 of set 10|gat\n",
      "Processing record 21 of set 10|la romana\n",
      "Processing record 22 of set 10|wanxian\n",
      "Processing record 23 of set 10|havelock\n",
      "Processing record 24 of set 10|hami\n",
      "Processing record 25 of set 10|savinskiy\n",
      "Processing record 26 of set 10|alice springs\n",
      "City not found.  Skipping..\n",
      "City not found.  Skipping..\n",
      "City not found.  Skipping..\n",
      "Processing record 27 of set 10|puerto escondido\n",
      "Processing record 28 of set 10|iralaya\n",
      "Processing record 29 of set 10|ballina\n",
      "Processing record 30 of set 10|cilegon\n",
      "Processing record 31 of set 10|cairns\n",
      "Processing record 32 of set 10|seoul\n",
      "Processing record 33 of set 10|tazovskiy\n",
      "Processing record 34 of set 10|nevers\n",
      "Processing record 35 of set 10|krasnoselkup\n",
      "Processing record 36 of set 10|konstantinovskoye\n",
      "Processing record 37 of set 10|krasnoarmeysk\n",
      "Processing record 38 of set 10|malmyzh\n",
      "Processing record 39 of set 10|coihaique\n",
      "Processing record 40 of set 10|gujranwala\n",
      "Processing record 41 of set 10|katsuura\n",
      "Processing record 42 of set 10|micheweni\n",
      "Processing record 43 of set 10|siemiatycze\n",
      "Processing record 44 of set 10|port hawkesbury\n",
      "Processing record 45 of set 10|yumen\n",
      "Processing record 46 of set 10|bac lieu\n",
      "Processing record 47 of set 10|sechura\n",
      "City not found.  Skipping..\n",
      "Processing record 48 of set 10|kudahuvadhoo\n",
      "City not found.  Skipping..\n",
      "Processing record 49 of set 10|caraballeda\n",
      "Processing record 50 of set 10|tiznit\n",
      "Processing record 1 of set 11|manta\n",
      "Processing record 2 of set 11|henties bay\n",
      "Processing record 3 of set 11|neyshabur\n",
      "Processing record 4 of set 11|brae\n",
      "Processing record 5 of set 11|mahibadhoo\n",
      "Processing record 6 of set 11|xunchang\n",
      "Processing record 7 of set 11|touros\n",
      "Processing record 8 of set 11|gumdag\n",
      "Processing record 9 of set 11|salta\n",
      "Processing record 10 of set 11|olinda\n",
      "Processing record 11 of set 11|borgarnes\n",
      "City not found.  Skipping..\n",
      "Processing record 12 of set 11|del rio\n",
      "Processing record 13 of set 11|erenhot\n",
      "Processing record 14 of set 11|fort nelson\n",
      "Processing record 15 of set 11|sisimiut\n",
      "Processing record 16 of set 11|burnie\n",
      "Processing record 17 of set 11|banamba\n",
      "City not found.  Skipping..\n",
      "Processing record 18 of set 11|bashmakovo\n",
      "Processing record 19 of set 11|krasnozerskoye\n",
      "Processing record 20 of set 11|krasnyy chikoy\n",
      "Processing record 21 of set 11|isangel\n",
      "Processing record 22 of set 11|cabo san lucas\n",
      "Processing record 23 of set 11|moerai\n",
      "Processing record 24 of set 11|port hardy\n",
      "Processing record 25 of set 11|oksfjord\n",
      "Processing record 26 of set 11|monaragala\n",
      "Processing record 27 of set 11|kieta\n",
      "Processing record 28 of set 11|dondo\n",
      "Processing record 29 of set 11|constitucion\n",
      "Processing record 30 of set 11|isla mujeres\n",
      "City not found.  Skipping..\n",
      "Processing record 31 of set 11|yulara\n",
      "Processing record 32 of set 11|kumano\n",
      "Processing record 33 of set 11|scalea\n",
      "Processing record 34 of set 11|zlocieniec\n",
      "Processing record 35 of set 11|storforshei\n",
      "Processing record 36 of set 11|praia\n",
      "Processing record 37 of set 11|reidsville\n",
      "Processing record 38 of set 11|tilichiki\n",
      "Processing record 39 of set 11|omboue\n",
      "Processing record 40 of set 11|omsukchan\n",
      "Processing record 41 of set 11|iqaluit\n",
      "Processing record 42 of set 11|santarem\n",
      "Processing record 43 of set 11|haines junction\n",
      "Processing record 44 of set 11|hualmay\n",
      "Processing record 45 of set 11|igarka\n",
      "Processing record 46 of set 11|benguela\n",
      "Processing record 47 of set 11|marawi\n",
      "Processing record 48 of set 11|shakawe\n",
      "Processing record 49 of set 11|krasnogorskoye\n",
      "Processing record 50 of set 11|lima\n",
      "Processing record 1 of set 12|killybegs\n",
      "Processing record 2 of set 12|oktyabrskiy\n",
      "Processing record 3 of set 12|luganville\n",
      "Processing record 4 of set 12|talcahuano\n",
      "Processing record 5 of set 12|matara\n",
      "City not found.  Skipping..\n",
      "Processing record 6 of set 12|udachnyy\n",
      "Processing record 7 of set 12|kljajicevo\n",
      "Processing record 8 of set 12|varhaug\n",
      "Processing record 9 of set 12|jiuquan\n",
      "Processing record 10 of set 12|jiayuguan\n",
      "Processing record 11 of set 12|korla\n",
      "Processing record 12 of set 12|marquette\n",
      "Processing record 13 of set 12|dzilam gonzalez\n",
      "City not found.  Skipping..\n",
      "Processing record 14 of set 12|dargaville\n",
      "-----------------------------\n",
      "Data Retrieval Complete\n",
      "-----------------------------\n"
     ]
    }
   ],
   "source": [
    "# Create empty lists for dataframe to plot data\n",
    "cityname = []\n",
    "temperature_max = []\n",
    "cloudiness =[]\n",
    "humidity=[]\n",
    "windspeed=[]\n",
    "latitude=[]\n",
    "longitude=[]\n",
    "date=[]\n",
    "country = []\n",
    "\n",
    "print(\"Beginning Data Retrieval\")\n",
    "print(\"-----------------------------\")\n",
    "\n",
    "# Set value for record and set count\n",
    "record = 1\n",
    "set_number = 1\n",
    "\n",
    "# Loop through the cities in the full cities list to get all the required weather information through API calls.\n",
    "# Also, to get a print log of all the cities found from calling the API.\n",
    "\n",
    "\n",
    "\n",
    "for city in cities:\n",
    "    weather_url = base_url + city\n",
    "    response= requests.get(weather_url + \"&units=imperial\").json()\n",
    "\n",
    "    try:\n",
    "        cloudiness.append(response['clouds']['all'])\n",
    "        country.append(response['sys']['country'])\n",
    "        date.append(response['dt'])\n",
    "        humidity.append(response['main']['humidity'])\n",
    "        latitude.append(response['coord']['lat'])\n",
    "        longitude.append(response['coord']['lon'])\n",
    "        temperature_max.append(response['main']['temp_max'])\n",
    "        windspeed.append(response['wind']['speed'])\n",
    "        print(f\"Processing record {record} of set {set_number}|{city}\")\n",
    "        \n",
    "        # record and set count\n",
    "        if record > 49:\n",
    "            record = 1\n",
    "            set_number += 1\n",
    "            cityname.append(city)\n",
    "        else:\n",
    "            record += 1\n",
    "            cityname.append(city)\n",
    "    except:\n",
    "        # Append null values\n",
    "        print(f\"City not found.  Skipping..\")\n",
    "        pass\n",
    "print(\"-----------------------------\")\n",
    "print(\"Data Retrieval Complete\") \n",
    "print(\"-----------------------------\")"
   ]
  },
  {
   "cell_type": "code",
   "execution_count": 8,
   "metadata": {},
   "outputs": [
    {
     "data": {
      "text/html": [
       "<div>\n",
       "<style scoped>\n",
       "    .dataframe tbody tr th:only-of-type {\n",
       "        vertical-align: middle;\n",
       "    }\n",
       "\n",
       "    .dataframe tbody tr th {\n",
       "        vertical-align: top;\n",
       "    }\n",
       "\n",
       "    .dataframe thead th {\n",
       "        text-align: right;\n",
       "    }\n",
       "</style>\n",
       "<table border=\"1\" class=\"dataframe\">\n",
       "  <thead>\n",
       "    <tr style=\"text-align: right;\">\n",
       "      <th></th>\n",
       "      <th>City</th>\n",
       "      <th>Cloudiness</th>\n",
       "      <th>Country</th>\n",
       "      <th>Date</th>\n",
       "      <th>Humidity</th>\n",
       "      <th>Latitude</th>\n",
       "      <th>Longitude</th>\n",
       "      <th>Max Temperature</th>\n",
       "      <th>Windspeed</th>\n",
       "    </tr>\n",
       "  </thead>\n",
       "  <tbody>\n",
       "    <tr>\n",
       "      <th>0</th>\n",
       "      <td>dombarovskiy</td>\n",
       "      <td>0</td>\n",
       "      <td>RU</td>\n",
       "      <td>1604457256</td>\n",
       "      <td>83</td>\n",
       "      <td>50.76</td>\n",
       "      <td>59.54</td>\n",
       "      <td>35.87</td>\n",
       "      <td>9.33</td>\n",
       "    </tr>\n",
       "    <tr>\n",
       "      <th>1</th>\n",
       "      <td>saint-augustin</td>\n",
       "      <td>33</td>\n",
       "      <td>CA</td>\n",
       "      <td>1604457256</td>\n",
       "      <td>79</td>\n",
       "      <td>51.23</td>\n",
       "      <td>-58.65</td>\n",
       "      <td>24.87</td>\n",
       "      <td>11.25</td>\n",
       "    </tr>\n",
       "    <tr>\n",
       "      <th>2</th>\n",
       "      <td>port alfred</td>\n",
       "      <td>96</td>\n",
       "      <td>ZA</td>\n",
       "      <td>1604457256</td>\n",
       "      <td>89</td>\n",
       "      <td>-33.59</td>\n",
       "      <td>26.89</td>\n",
       "      <td>68.40</td>\n",
       "      <td>6.51</td>\n",
       "    </tr>\n",
       "    <tr>\n",
       "      <th>3</th>\n",
       "      <td>ushuaia</td>\n",
       "      <td>75</td>\n",
       "      <td>AR</td>\n",
       "      <td>1604457256</td>\n",
       "      <td>50</td>\n",
       "      <td>-54.80</td>\n",
       "      <td>-68.30</td>\n",
       "      <td>51.80</td>\n",
       "      <td>13.87</td>\n",
       "    </tr>\n",
       "    <tr>\n",
       "      <th>4</th>\n",
       "      <td>vardo</td>\n",
       "      <td>3</td>\n",
       "      <td>NO</td>\n",
       "      <td>1604457219</td>\n",
       "      <td>69</td>\n",
       "      <td>70.37</td>\n",
       "      <td>31.11</td>\n",
       "      <td>42.44</td>\n",
       "      <td>21.50</td>\n",
       "    </tr>\n",
       "    <tr>\n",
       "      <th>...</th>\n",
       "      <td>...</td>\n",
       "      <td>...</td>\n",
       "      <td>...</td>\n",
       "      <td>...</td>\n",
       "      <td>...</td>\n",
       "      <td>...</td>\n",
       "      <td>...</td>\n",
       "      <td>...</td>\n",
       "      <td>...</td>\n",
       "    </tr>\n",
       "    <tr>\n",
       "      <th>559</th>\n",
       "      <td>jiayuguan</td>\n",
       "      <td>7</td>\n",
       "      <td>CN</td>\n",
       "      <td>1604457328</td>\n",
       "      <td>47</td>\n",
       "      <td>39.82</td>\n",
       "      <td>98.30</td>\n",
       "      <td>44.44</td>\n",
       "      <td>2.59</td>\n",
       "    </tr>\n",
       "    <tr>\n",
       "      <th>560</th>\n",
       "      <td>korla</td>\n",
       "      <td>36</td>\n",
       "      <td>CN</td>\n",
       "      <td>1604457049</td>\n",
       "      <td>51</td>\n",
       "      <td>41.76</td>\n",
       "      <td>86.15</td>\n",
       "      <td>44.76</td>\n",
       "      <td>4.56</td>\n",
       "    </tr>\n",
       "    <tr>\n",
       "      <th>561</th>\n",
       "      <td>marquette</td>\n",
       "      <td>1</td>\n",
       "      <td>US</td>\n",
       "      <td>1604457329</td>\n",
       "      <td>61</td>\n",
       "      <td>46.53</td>\n",
       "      <td>-87.63</td>\n",
       "      <td>53.01</td>\n",
       "      <td>8.05</td>\n",
       "    </tr>\n",
       "    <tr>\n",
       "      <th>562</th>\n",
       "      <td>dzilam gonzalez</td>\n",
       "      <td>93</td>\n",
       "      <td>MX</td>\n",
       "      <td>1604457329</td>\n",
       "      <td>84</td>\n",
       "      <td>21.28</td>\n",
       "      <td>-88.93</td>\n",
       "      <td>73.15</td>\n",
       "      <td>8.77</td>\n",
       "    </tr>\n",
       "    <tr>\n",
       "      <th>563</th>\n",
       "      <td>dargaville</td>\n",
       "      <td>100</td>\n",
       "      <td>NZ</td>\n",
       "      <td>1604457329</td>\n",
       "      <td>64</td>\n",
       "      <td>-35.93</td>\n",
       "      <td>173.88</td>\n",
       "      <td>70.54</td>\n",
       "      <td>12.62</td>\n",
       "    </tr>\n",
       "  </tbody>\n",
       "</table>\n",
       "<p>564 rows × 9 columns</p>\n",
       "</div>"
      ],
      "text/plain": [
       "                City  Cloudiness Country        Date  Humidity  Latitude  \\\n",
       "0       dombarovskiy           0      RU  1604457256        83     50.76   \n",
       "1     saint-augustin          33      CA  1604457256        79     51.23   \n",
       "2        port alfred          96      ZA  1604457256        89    -33.59   \n",
       "3            ushuaia          75      AR  1604457256        50    -54.80   \n",
       "4              vardo           3      NO  1604457219        69     70.37   \n",
       "..               ...         ...     ...         ...       ...       ...   \n",
       "559        jiayuguan           7      CN  1604457328        47     39.82   \n",
       "560            korla          36      CN  1604457049        51     41.76   \n",
       "561        marquette           1      US  1604457329        61     46.53   \n",
       "562  dzilam gonzalez          93      MX  1604457329        84     21.28   \n",
       "563       dargaville         100      NZ  1604457329        64    -35.93   \n",
       "\n",
       "     Longitude  Max Temperature  Windspeed  \n",
       "0        59.54            35.87       9.33  \n",
       "1       -58.65            24.87      11.25  \n",
       "2        26.89            68.40       6.51  \n",
       "3       -68.30            51.80      13.87  \n",
       "4        31.11            42.44      21.50  \n",
       "..         ...              ...        ...  \n",
       "559      98.30            44.44       2.59  \n",
       "560      86.15            44.76       4.56  \n",
       "561     -87.63            53.01       8.05  \n",
       "562     -88.93            73.15       8.77  \n",
       "563     173.88            70.54      12.62  \n",
       "\n",
       "[564 rows x 9 columns]"
      ]
     },
     "execution_count": 8,
     "metadata": {},
     "output_type": "execute_result"
    }
   ],
   "source": [
    "### Convert Raw Data to DataFrame\n",
    "# Display the DataFrame\n",
    "weather_data = pd.DataFrame({\n",
    "    'City': cityname,\n",
    "    'Cloudiness': cloudiness,\n",
    "    'Country': country,\n",
    "    'Date': date,\n",
    "    'Humidity': humidity,\n",
    "    'Latitude': latitude,\n",
    "    'Longitude': longitude,\n",
    "    'Max Temperature': temperature_max,\n",
    "    'Windspeed': windspeed\n",
    "    \n",
    "})\n",
    "weather_data"
   ]
  },
  {
   "cell_type": "code",
   "execution_count": 9,
   "metadata": {},
   "outputs": [
    {
     "data": {
      "text/plain": [
       "City               564\n",
       "Cloudiness         564\n",
       "Country            564\n",
       "Date               564\n",
       "Humidity           564\n",
       "Latitude           564\n",
       "Longitude          564\n",
       "Max Temperature    564\n",
       "Windspeed          564\n",
       "dtype: int64"
      ]
     },
     "execution_count": 9,
     "metadata": {},
     "output_type": "execute_result"
    }
   ],
   "source": [
    "#count the number of records by columns\n",
    "weather_data.count()"
   ]
  },
  {
   "cell_type": "code",
   "execution_count": 10,
   "metadata": {},
   "outputs": [],
   "source": [
    "# Export the city data into a .csv.\n",
    "weather_data.to_csv(\"Output Files/weather_data.csv\")"
   ]
  },
  {
   "cell_type": "markdown",
   "metadata": {},
   "source": [
    "### Plotting the Data\n",
    "* Use proper labeling of the plots using plot titles (including date of analysis) and axes labels.\n",
    "* Save the plotted figures as .pngs."
   ]
  },
  {
   "cell_type": "markdown",
   "metadata": {},
   "source": [
    "#### Latitude vs. Temperature Plot"
   ]
  },
  {
   "cell_type": "code",
   "execution_count": 11,
   "metadata": {
    "scrolled": false
   },
   "outputs": [
    {
     "data": {
      "text/plain": [
       "-0.706756118071058"
      ]
     },
     "execution_count": 11,
     "metadata": {},
     "output_type": "execute_result"
    },
    {
     "data": {
      "image/png": "[encoded data removed]",
      "text/plain": [
       "<Figure size 432x288 with 1 Axes>"
      ]
     },
     "metadata": {
      "needs_background": "light"
     },
     "output_type": "display_data"
    }
   ],
   "source": [
    "# Generate a scatter plot of average tumor volume vs. mouse weight for the Capomulin regimen\n",
    "plt.scatter(weather_data.iloc[:,5], weather_data.iloc[:,7], marker=\"o\", facecolors=\"blue\", edgecolors=\"black\")\n",
    "\n",
    "# Formatting the scatter diagram with title, x & y labels, and x & y limits\n",
    "plt.title (\"City Latitude vs Maximum Temperature\")\n",
    "plt.xlabel(\"Latitude\")\n",
    "plt.ylabel(\"Max Temperature (F)\")\n",
    "plt.grid()\n",
    "\n",
    "# Save scatter plot as png file to output folder\n",
    "plt.savefig(\"Output Files/Latitude_MaxTemp\")"
   ]
  },
  {
   "cell_type": "markdown",
   "metadata": {},
   "source": [
    "#### Latitude vs. Humidity Plot"
   ]
  },
  {
   "cell_type": "code",
   "execution_count": 12,
   "metadata": {},
   "outputs": [
    {
     "data": {
      "text/plain": [
       "0.1644300339805792"
      ]
     },
     "execution_count": 12,
     "metadata": {},
     "output_type": "execute_result"
    },
    {
     "data": {
      "image/png": "[encoded data removed]",
      "text/plain": [
       "<Figure size 432x288 with 1 Axes>"
      ]
     },
     "metadata": {
      "needs_background": "light"
     },
     "output_type": "display_data"
    }
   ],
   "source": [
    "# Generate a scatter plot of average tumor volume vs. mouse weight for the Capomulin regimen\n",
    "plt.scatter(weather_data.iloc[:,5], weather_data.iloc[:,4], marker=\"o\", facecolors=\"blue\", edgecolors=\"black\")\n",
    "\n",
    "# Formatting the scatter diagram with title, x & y labels, and x & y limits\n",
    "plt.title (\"City Latitude vs Humidity\")\n",
    "plt.xlabel(\"Latitude\")\n",
    "plt.ylabel(\"Humidity (%)\")\n",
    "plt.grid()\n",
    "\n",
    "# Save scatter plot as png file to output folder\n",
    "plt.savefig(\"Output Files/Latitude_Humidity\")"
   ]
  },
  {
   "cell_type": "markdown",
   "metadata": {},
   "source": [
    "#### Latitude vs. Cloudiness Plot"
   ]
  },
  {
   "cell_type": "code",
   "execution_count": 13,
   "metadata": {
    "scrolled": true
   },
   "outputs": [
    {
     "data": {
      "text/plain": [
       "0.019713878089711024"
      ]
     },
     "execution_count": 13,
     "metadata": {},
     "output_type": "execute_result"
    },
    {
     "data": {
      "image/png": "[encoded data removed]",
      "text/plain": [
       "<Figure size 432x288 with 1 Axes>"
      ]
     },
     "metadata": {
      "needs_background": "light"
     },
     "output_type": "display_data"
    }
   ],
   "source": [
    "# Generate a scatter plot of average tumor volume vs. mouse weight for the Capomulin regimen\n",
    "plt.scatter(weather_data.iloc[:,5], weather_data.iloc[:,1], marker=\"o\", facecolors=\"blue\", edgecolors=\"black\")\n",
    "\n",
    "# Formatting the scatter diagram with title, x & y labels, and x & y limits\n",
    "plt.title (\"City Latitude vs Cloudiness\")\n",
    "plt.xlabel(\"Latitude\")\n",
    "plt.ylabel(\"Cloudiness (%)\")\n",
    "plt.grid()\n",
    "\n",
    "# Save scatter plot as png file to output folder\n",
    "plt.savefig(\"Output Files/Latitude_Cloudiness\")"
   ]
  },
  {
   "cell_type": "markdown",
   "metadata": {},
   "source": [
    "#### Latitude vs. Wind Speed Plot"
   ]
  },
  {
   "cell_type": "code",
   "execution_count": 14,
   "metadata": {},
   "outputs": [
    {
     "data": {
      "text/plain": [
       "0.09010116254765323"
      ]
     },
     "execution_count": 14,
     "metadata": {},
     "output_type": "execute_result"
    },
    {
     "data": {
      "image/png": "[encoded data removed]",
      "text/plain": [
       "<Figure size 432x288 with 1 Axes>"
      ]
     },
     "metadata": {
      "needs_background": "light"
     },
     "output_type": "display_data"
    }
   ],
   "source": [
    "# Generate a scatter plot of average tumor volume vs. mouse weight for the Capomulin regimen\n",
    "plt.scatter(weather_data.iloc[:,5], weather_data.iloc[:,8], marker=\"o\", facecolors=\"blue\", edgecolors=\"black\")\n",
    "\n",
    "# Formatting the scatter diagram with title, x & y labels, and x & y limits\n",
    "plt.title (\"City Latitude vs Wind Speed\")\n",
    "plt.xlabel(\"Latitude\")\n",
    "plt.ylabel(\"Wind Speed (mph)\")\n",
    "plt.grid()\n",
    "\n",
    "# Save scatter plot as png file to output folder\n",
    "plt.savefig(\"Output Files/Latitude_WindSpeed\")"
   ]
  },
  {
   "cell_type": "markdown",
   "metadata": {},
   "source": [
    "### Linear Regression"
   ]
  },
  {
   "cell_type": "code",
   "execution_count": 21,
   "metadata": {},
   "outputs": [
    {
     "data": {
      "text/html": [
       "<div>\n",
       "<style scoped>\n",
       "    .dataframe tbody tr th:only-of-type {\n",
       "        vertical-align: middle;\n",
       "    }\n",
       "\n",
       "    .dataframe tbody tr th {\n",
       "        vertical-align: top;\n",
       "    }\n",
       "\n",
       "    .dataframe thead th {\n",
       "        text-align: right;\n",
       "    }\n",
       "</style>\n",
       "<table border=\"1\" class=\"dataframe\">\n",
       "  <thead>\n",
       "    <tr style=\"text-align: right;\">\n",
       "      <th></th>\n",
       "      <th>City</th>\n",
       "      <th>Cloudiness</th>\n",
       "      <th>Country</th>\n",
       "      <th>Date</th>\n",
       "      <th>Humidity</th>\n",
       "      <th>Latitude</th>\n",
       "      <th>Longitude</th>\n",
       "      <th>Max Temperature</th>\n",
       "      <th>Windspeed</th>\n",
       "    </tr>\n",
       "  </thead>\n",
       "  <tbody>\n",
       "    <tr>\n",
       "      <th>0</th>\n",
       "      <td>dombarovskiy</td>\n",
       "      <td>0</td>\n",
       "      <td>RU</td>\n",
       "      <td>1604457256</td>\n",
       "      <td>83</td>\n",
       "      <td>50.76</td>\n",
       "      <td>59.54</td>\n",
       "      <td>35.87</td>\n",
       "      <td>9.33</td>\n",
       "    </tr>\n",
       "    <tr>\n",
       "      <th>1</th>\n",
       "      <td>saint-augustin</td>\n",
       "      <td>33</td>\n",
       "      <td>CA</td>\n",
       "      <td>1604457256</td>\n",
       "      <td>79</td>\n",
       "      <td>51.23</td>\n",
       "      <td>-58.65</td>\n",
       "      <td>24.87</td>\n",
       "      <td>11.25</td>\n",
       "    </tr>\n",
       "    <tr>\n",
       "      <th>4</th>\n",
       "      <td>vardo</td>\n",
       "      <td>3</td>\n",
       "      <td>NO</td>\n",
       "      <td>1604457219</td>\n",
       "      <td>69</td>\n",
       "      <td>70.37</td>\n",
       "      <td>31.11</td>\n",
       "      <td>42.44</td>\n",
       "      <td>21.50</td>\n",
       "    </tr>\n",
       "    <tr>\n",
       "      <th>5</th>\n",
       "      <td>tasiilaq</td>\n",
       "      <td>100</td>\n",
       "      <td>GL</td>\n",
       "      <td>1604457256</td>\n",
       "      <td>86</td>\n",
       "      <td>65.61</td>\n",
       "      <td>-37.64</td>\n",
       "      <td>33.80</td>\n",
       "      <td>38.03</td>\n",
       "    </tr>\n",
       "    <tr>\n",
       "      <th>7</th>\n",
       "      <td>dukat</td>\n",
       "      <td>100</td>\n",
       "      <td>RU</td>\n",
       "      <td>1604457256</td>\n",
       "      <td>96</td>\n",
       "      <td>62.55</td>\n",
       "      <td>155.55</td>\n",
       "      <td>13.84</td>\n",
       "      <td>7.31</td>\n",
       "    </tr>\n",
       "    <tr>\n",
       "      <th>...</th>\n",
       "      <td>...</td>\n",
       "      <td>...</td>\n",
       "      <td>...</td>\n",
       "      <td>...</td>\n",
       "      <td>...</td>\n",
       "      <td>...</td>\n",
       "      <td>...</td>\n",
       "      <td>...</td>\n",
       "      <td>...</td>\n",
       "    </tr>\n",
       "    <tr>\n",
       "      <th>558</th>\n",
       "      <td>jiuquan</td>\n",
       "      <td>3</td>\n",
       "      <td>CN</td>\n",
       "      <td>1604457328</td>\n",
       "      <td>45</td>\n",
       "      <td>39.74</td>\n",
       "      <td>98.52</td>\n",
       "      <td>46.13</td>\n",
       "      <td>3.98</td>\n",
       "    </tr>\n",
       "    <tr>\n",
       "      <th>559</th>\n",
       "      <td>jiayuguan</td>\n",
       "      <td>7</td>\n",
       "      <td>CN</td>\n",
       "      <td>1604457328</td>\n",
       "      <td>47</td>\n",
       "      <td>39.82</td>\n",
       "      <td>98.30</td>\n",
       "      <td>44.44</td>\n",
       "      <td>2.59</td>\n",
       "    </tr>\n",
       "    <tr>\n",
       "      <th>560</th>\n",
       "      <td>korla</td>\n",
       "      <td>36</td>\n",
       "      <td>CN</td>\n",
       "      <td>1604457049</td>\n",
       "      <td>51</td>\n",
       "      <td>41.76</td>\n",
       "      <td>86.15</td>\n",
       "      <td>44.76</td>\n",
       "      <td>4.56</td>\n",
       "    </tr>\n",
       "    <tr>\n",
       "      <th>561</th>\n",
       "      <td>marquette</td>\n",
       "      <td>1</td>\n",
       "      <td>US</td>\n",
       "      <td>1604457329</td>\n",
       "      <td>61</td>\n",
       "      <td>46.53</td>\n",
       "      <td>-87.63</td>\n",
       "      <td>53.01</td>\n",
       "      <td>8.05</td>\n",
       "    </tr>\n",
       "    <tr>\n",
       "      <th>562</th>\n",
       "      <td>dzilam gonzalez</td>\n",
       "      <td>93</td>\n",
       "      <td>MX</td>\n",
       "      <td>1604457329</td>\n",
       "      <td>84</td>\n",
       "      <td>21.28</td>\n",
       "      <td>-88.93</td>\n",
       "      <td>73.15</td>\n",
       "      <td>8.77</td>\n",
       "    </tr>\n",
       "  </tbody>\n",
       "</table>\n",
       "<p>395 rows × 9 columns</p>\n",
       "</div>"
      ],
      "text/plain": [
       "                City  Cloudiness Country        Date  Humidity  Latitude  \\\n",
       "0       dombarovskiy           0      RU  1604457256        83     50.76   \n",
       "1     saint-augustin          33      CA  1604457256        79     51.23   \n",
       "4              vardo           3      NO  1604457219        69     70.37   \n",
       "5           tasiilaq         100      GL  1604457256        86     65.61   \n",
       "7              dukat         100      RU  1604457256        96     62.55   \n",
       "..               ...         ...     ...         ...       ...       ...   \n",
       "558          jiuquan           3      CN  1604457328        45     39.74   \n",
       "559        jiayuguan           7      CN  1604457328        47     39.82   \n",
       "560            korla          36      CN  1604457049        51     41.76   \n",
       "561        marquette           1      US  1604457329        61     46.53   \n",
       "562  dzilam gonzalez          93      MX  1604457329        84     21.28   \n",
       "\n",
       "     Longitude  Max Temperature  Windspeed  \n",
       "0        59.54            35.87       9.33  \n",
       "1       -58.65            24.87      11.25  \n",
       "4        31.11            42.44      21.50  \n",
       "5       -37.64            33.80      38.03  \n",
       "7       155.55            13.84       7.31  \n",
       "..         ...              ...        ...  \n",
       "558      98.52            46.13       3.98  \n",
       "559      98.30            44.44       2.59  \n",
       "560      86.15            44.76       4.56  \n",
       "561     -87.63            53.01       8.05  \n",
       "562     -88.93            73.15       8.77  \n",
       "\n",
       "[395 rows x 9 columns]"
      ]
     },
     "execution_count": 21,
     "metadata": {},
     "output_type": "execute_result"
    }
   ],
   "source": [
    "#Extracting Northern and Southern Hemisphere Dataframes\n",
    "northern_hemisphere_data = weather_data[(weather_data[\"Latitude\"] >= 0)]\n",
    "southern_hemisphere_data = weather_data[(weather_data[\"Latitude\"] < 0)]\n",
    "northern_hemisphere_data"
   ]
  },
  {
   "cell_type": "code",
   "execution_count": 62,
   "metadata": {},
   "outputs": [],
   "source": [
    "# Define function for creating linear agression and scatter plot\n",
    "def linear_regression(x,y):\n",
    "   \n",
    "    (slope, intercept, rvalue, pvalue, stderr) = linregress(x, y)\n",
    "    print(f\"The r-squared is : {round(rvalue,6)}\")\n",
    "    best_fit_plots = x * slope + intercept\n",
    "    best_fit_equation = \"y = \" + str(round(slope,2)) + \"x + \" + str(round(intercept,2))\n",
    "    plt.scatter(x, y, marker=\"o\", facecolors=\"blue\", edgecolors=\"black\")\n",
    "    plt.plot(x,best_fit_plots,linewidth = 1,color=\"red\")\n",
    "    return best_fit_equation\n",
    "\n",
    "# Define a fuction for annotating\n",
    "def annotate(best_fit_equation, a, b):\n",
    "    plt.annotate(best_fit_equation,(a,b),fontsize=12)"
   ]
  },
  {
   "cell_type": "markdown",
   "metadata": {},
   "source": [
    "#### Northern Hemisphere - Maximum Temperature (F) vs Latitude"
   ]
  },
  {
   "cell_type": "code",
   "execution_count": 64,
   "metadata": {},
   "outputs": [
    {
     "name": "stdout",
     "output_type": "stream",
     "text": [
      "The r-squared is : -0.861511\n"
     ]
    },
    {
     "data": {
      "image/png": "[encoded data removed]",
      "text/plain": [
       "<Figure size 432x288 with 1 Axes>"
      ]
     },
     "metadata": {
      "needs_background": "light"
     },
     "output_type": "display_data"
    }
   ],
   "source": [
    "# Define x & y values\n",
    "xy_values = linear_regression(northern_hemisphere_data.iloc[:,5], northern_hemisphere_data.iloc[:,7])\n",
    "\n",
    "# Display regression equation in the preferred location of scatter plot\n",
    "plt.annotate(xy_values,(10,20),color=\"red\")\n",
    "\n",
    "# Formatting the scatter diagram with title, x & y labels, and x & y limits\n",
    "plt.title (\"Northern Hemisphere - Maximum Temperature (F) vs Latitude\")\n",
    "plt.xlabel(\"Latitude\")\n",
    "plt.ylabel(\"Max Temperature (F)\")\n",
    "plt.grid()\n",
    "\n",
    "# Save scatter plot as png file to output folder\n",
    "plt.savefig(\"Output Files/Northern_Hemisphere_MaxTemp\")"
   ]
  },
  {
   "cell_type": "markdown",
   "metadata": {},
   "source": [
    "#### Southern Hemisphere - Maximum Temperature (F) vs Latitude"
   ]
  },
  {
   "cell_type": "code",
   "execution_count": 65,
   "metadata": {},
   "outputs": [
    {
     "name": "stdout",
     "output_type": "stream",
     "text": [
      "The r-squared is : 0.509715\n"
     ]
    },
    {
     "data": {
      "image/png": "[encoded data removed]",
      "text/plain": [
       "<Figure size 432x288 with 1 Axes>"
      ]
     },
     "metadata": {
      "needs_background": "light"
     },
     "output_type": "display_data"
    }
   ],
   "source": [
    "# Define x & y values\n",
    "xy_values = linear_regression(southern_hemisphere_data.iloc[:,5], southern_hemisphere_data.iloc[:,7])\n",
    "\n",
    "# Display regression equation in the preferred location of scatter plot\n",
    "plt.annotate(xy_values,(-20,50),color=\"red\")\n",
    "\n",
    "# Formatting the scatter diagram with title, x & y labels, and x & y limits\n",
    "plt.title (\"Southern Hemisphere - Maximum Temperature (F) vs Latitude\")\n",
    "plt.xlabel(\"Latitude\")\n",
    "plt.ylabel(\"Max Temperature (F)\")\n",
    "plt.grid()\n",
    "\n",
    "# Save scatter plot as png file to output folder\n",
    "plt.savefig(\"Output Files/Southern_Hemisphere_MaxTemp\")"
   ]
  },
  {
   "cell_type": "markdown",
   "metadata": {},
   "source": [
    "#### Northern Hemisphere - Humidity (%) vs Latitude"
   ]
  },
  {
   "cell_type": "code",
   "execution_count": 67,
   "metadata": {},
   "outputs": [
    {
     "name": "stdout",
     "output_type": "stream",
     "text": [
      "The r-squared is : 0.252445\n"
     ]
    },
    {
     "data": {
      "image/png": "[encoded data removed]",
      "text/plain": [
       "<Figure size 432x288 with 1 Axes>"
      ]
     },
     "metadata": {
      "needs_background": "light"
     },
     "output_type": "display_data"
    }
   ],
   "source": [
    "# Define x & y values\n",
    "xy_values = linear_regression(northern_hemisphere_data.iloc[:,5], northern_hemisphere_data.iloc[:,4])\n",
    "\n",
    "# Display regression equation in the preferred location of scatter plot\n",
    "plt.annotate(xy_values,(50,50),color=\"red\")\n",
    "\n",
    "# Formatting the scatter diagram with title, x & y labels, and x & y limits\n",
    "plt.title (\"Northern Hemisphere - Humidity(%) vs Latitude\")\n",
    "plt.xlabel(\"Latitude\")\n",
    "plt.ylabel(\"Humidity (%)\")\n",
    "plt.grid()\n",
    "\n",
    "# Save scatter plot as png file to output folder\n",
    "plt.savefig(\"Output Files/Northern_Hemisphere_Humidity\")"
   ]
  },
  {
   "cell_type": "markdown",
   "metadata": {},
   "source": [
    "#### Southern Hemisphere - Humidity (%) vs Latitude"
   ]
  },
  {
   "cell_type": "code",
   "execution_count": 68,
   "metadata": {},
   "outputs": [
    {
     "name": "stdout",
     "output_type": "stream",
     "text": [
      "The r-squared is : 0.166729\n"
     ]
    },
    {
     "data": {
      "image/png": "[encoded data removed]",
      "text/plain": [
       "<Figure size 432x288 with 1 Axes>"
      ]
     },
     "metadata": {
      "needs_background": "light"
     },
     "output_type": "display_data"
    }
   ],
   "source": [
    "# Define x & y values\n",
    "xy_values = linear_regression(southern_hemisphere_data.iloc[:,5], southern_hemisphere_data.iloc[:,4])\n",
    "\n",
    "# Display regression equation in the preferred location of scatter plot\n",
    "plt.annotate(xy_values,(-55,35),color=\"red\")\n",
    "\n",
    "# Formatting the scatter diagram with title, x & y labels, and x & y limits\n",
    "plt.title (\"Southern Hemisphere - Humidity(%) vs Latitude\")\n",
    "plt.xlabel(\"Latitude\")\n",
    "plt.ylabel(\"Humidity (%)\")\n",
    "plt.grid()\n",
    "\n",
    "# Save scatter plot as png file to output folder\n",
    "plt.savefig(\"Output Files/Southern_Hemisphere_Humidity\")\n"
   ]
  },
  {
   "cell_type": "markdown",
   "metadata": {},
   "source": [
    "#### Northern Hemisphere - Cloudiness (%) vs. Latitude"
   ]
  },
  {
   "cell_type": "code",
   "execution_count": 71,
   "metadata": {},
   "outputs": [
    {
     "name": "stdout",
     "output_type": "stream",
     "text": [
      "The r-squared is : 0.145082\n"
     ]
    },
    {
     "data": {
      "image/png": "[encoded data removed]",
      "text/plain": [
       "<Figure size 432x288 with 1 Axes>"
      ]
     },
     "metadata": {
      "needs_background": "light"
     },
     "output_type": "display_data"
    }
   ],
   "source": [
    "# Define x & y values\n",
    "xy_values = linear_regression(northern_hemisphere_data.iloc[:,5], northern_hemisphere_data.iloc[:,1])\n",
    "\n",
    "# Display regression equation in the preferred location of scatter plot\n",
    "plt.annotate(xy_values,(0,45),color=\"red\")\n",
    "\n",
    "# Formatting the scatter diagram with title, x & y labels, and x & y limits\n",
    "plt.title (\"Northern Hemisphere - Cloudiness(%) vs Latitude\")\n",
    "plt.xlabel(\"Latitude\")\n",
    "plt.ylabel(\"Cloudiness (%)\")\n",
    "plt.grid()\n",
    "\n",
    "# Save scatter plot as png file to output folder\n",
    "plt.savefig(\"Output Files/Northern_Hemisphere_Cloudiness\")"
   ]
  },
  {
   "cell_type": "markdown",
   "metadata": {},
   "source": [
    "#### Southern Hemisphere - Cloudiness (%) vs. Latitude"
   ]
  },
  {
   "cell_type": "code",
   "execution_count": 74,
   "metadata": {},
   "outputs": [
    {
     "name": "stdout",
     "output_type": "stream",
     "text": [
      "The r-squared is : 0.051295\n"
     ]
    },
    {
     "data": {
      "image/png": "[encoded data removed]",
      "text/plain": [
       "<Figure size 432x288 with 1 Axes>"
      ]
     },
     "metadata": {
      "needs_background": "light"
     },
     "output_type": "display_data"
    }
   ],
   "source": [
    "# Define x & y values\n",
    "xy_values = linear_regression(southern_hemisphere_data.iloc[:,5], southern_hemisphere_data.iloc[:,1])\n",
    "\n",
    "# Display regression equation in the preferred location of scatter plot\n",
    "plt.annotate(xy_values,(-55,40),color=\"red\")\n",
    "\n",
    "# Formatting the scatter diagram with title, x & y labels, and x & y limits\n",
    "plt.title (\"Southern Hemisphere - Cloudiness(%) vs Latitude\")\n",
    "plt.xlabel(\"Latitude\")\n",
    "plt.ylabel(\"Cloudiness (%)\")\n",
    "plt.grid()\n",
    "\n",
    "# Save scatter plot as png file to output folder\n",
    "plt.savefig(\"Output Files/Southern_Hemisphere_Cloudiness\")"
   ]
  },
  {
   "cell_type": "markdown",
   "metadata": {},
   "source": [
    "#### Northern Hemisphere - Wind Speed (mph) vs. Latitude"
   ]
  },
  {
   "cell_type": "code",
   "execution_count": 80,
   "metadata": {},
   "outputs": [
    {
     "name": "stdout",
     "output_type": "stream",
     "text": [
      "The r-squared is : 0.289673\n"
     ]
    },
    {
     "data": {
      "image/png": "[encoded data removed]",
      "text/plain": [
       "<Figure size 432x288 with 1 Axes>"
      ]
     },
     "metadata": {
      "needs_background": "light"
     },
     "output_type": "display_data"
    }
   ],
   "source": [
    "# Define x & y values\n",
    "xy_values = linear_regression(northern_hemisphere_data.iloc[:,5], northern_hemisphere_data.iloc[:,8])\n",
    "\n",
    "# Display regression equation in the preferred location of scatter plot\n",
    "plt.annotate(xy_values,(55,45),color=\"red\")\n",
    "\n",
    "# Formatting the scatter diagram with title, x & y labels, and x & y limits\n",
    "plt.title (\"Northern Hemisphere - Windspeed(mph) vs Latitude\")\n",
    "plt.xlabel(\"Latitude\")\n",
    "plt.ylabel(\"Windspeed (mph)\")\n",
    "plt.grid()\n",
    "\n",
    "# Save scatter plot as png file to output folder\n",
    "plt.savefig(\"Output Files/Northern_Hemisphere_Windspeed\")"
   ]
  },
  {
   "cell_type": "markdown",
   "metadata": {},
   "source": [
    "#### Southern Hemisphere - Wind Speed (mph) vs. Latitude"
   ]
  },
  {
   "cell_type": "code",
   "execution_count": 81,
   "metadata": {},
   "outputs": [
    {
     "name": "stdout",
     "output_type": "stream",
     "text": [
      "The r-squared is : -0.315211\n"
     ]
    },
    {
     "data": {
      "image/png": "[encoded data removed]",
      "text/plain": [
       "<Figure size 432x288 with 1 Axes>"
      ]
     },
     "metadata": {
      "needs_background": "light"
     },
     "output_type": "display_data"
    }
   ],
   "source": [
    "# Define x & y values\n",
    "xy_values = linear_regression(southern_hemisphere_data.iloc[:,5], southern_hemisphere_data.iloc[:,8])\n",
    "\n",
    "# Display regression equation in the preferred location of scatter plot\n",
    "plt.annotate(xy_values,(-55,5),color=\"red\")\n",
    "\n",
    "# Formatting the scatter diagram with title, x & y labels, and x & y limits\n",
    "plt.title (\"Southern Hemisphere - Windspeed(mph) vs Latitude\")\n",
    "plt.xlabel(\"Latitude\")\n",
    "plt.ylabel(\"Windspeed (mph)\")\n",
    "plt.grid()\n",
    "\n",
    "# Save scatter plot as png file to output folder\n",
    "plt.savefig(\"Output Files/Southern_Hemisphere_Windspeed\")"
   ]
  },
  {
   "cell_type": "code",
   "execution_count": null,
   "metadata": {},
   "outputs": [],
   "source": []
  }
 ],
 "metadata": {
  "anaconda-cloud": {},
  "kernelspec": {
   "display_name": "Python 3",
   "language": "python",
   "name": "python3"
  },
  "language_info": {
   "codemirror_mode": {
    "name": "ipython",
    "version": 3
   },
   "file_extension": ".py",
   "mimetype": "text/x-python",
   "name": "python",
   "nbconvert_exporter": "python",
   "pygments_lexer": "ipython3",
   "version": "3.8.3"
  }
 },
 "nbformat": 4,
 "nbformat_minor": 2
}
